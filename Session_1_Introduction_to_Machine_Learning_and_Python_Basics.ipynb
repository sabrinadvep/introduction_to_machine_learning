{
  "nbformat": 4,
  "nbformat_minor": 0,
  "metadata": {
    "colab": {
      "provenance": []
    },
    "kernelspec": {
      "name": "python3",
      "display_name": "Python 3"
    },
    "language_info": {
      "name": "python"
    }
  },
  "cells": [
    {
      "cell_type": "markdown",
      "source": [
        "# Installing Library"
      ],
      "metadata": {
        "id": "WDM4syHLzj1q"
      }
    },
    {
      "cell_type": "code",
      "source": [
        "!pip install numpy"
      ],
      "metadata": {
        "colab": {
          "base_uri": "https://localhost:8080/"
        },
        "id": "UKBwim-Jzo20",
        "outputId": "7a3715a9-8d31-412f-af45-eb936b1a6401"
      },
      "execution_count": null,
      "outputs": [
        {
          "output_type": "stream",
          "name": "stdout",
          "text": [
            "Requirement already satisfied: numpy in /usr/local/lib/python3.10/dist-packages (1.25.2)\n"
          ]
        }
      ]
    },
    {
      "cell_type": "code",
      "source": [
        "!pip install matplotlib"
      ],
      "metadata": {
        "colab": {
          "base_uri": "https://localhost:8080/"
        },
        "id": "5I4xZNuPzrpB",
        "outputId": "3123ceca-85a5-47e6-eedd-a702e61cbab4"
      },
      "execution_count": null,
      "outputs": [
        {
          "output_type": "stream",
          "name": "stdout",
          "text": [
            "Requirement already satisfied: matplotlib in /usr/local/lib/python3.10/dist-packages (3.7.1)\n",
            "Requirement already satisfied: contourpy>=1.0.1 in /usr/local/lib/python3.10/dist-packages (from matplotlib) (1.2.1)\n",
            "Requirement already satisfied: cycler>=0.10 in /usr/local/lib/python3.10/dist-packages (from matplotlib) (0.12.1)\n",
            "Requirement already satisfied: fonttools>=4.22.0 in /usr/local/lib/python3.10/dist-packages (from matplotlib) (4.51.0)\n",
            "Requirement already satisfied: kiwisolver>=1.0.1 in /usr/local/lib/python3.10/dist-packages (from matplotlib) (1.4.5)\n",
            "Requirement already satisfied: numpy>=1.20 in /usr/local/lib/python3.10/dist-packages (from matplotlib) (1.25.2)\n",
            "Requirement already satisfied: packaging>=20.0 in /usr/local/lib/python3.10/dist-packages (from matplotlib) (24.0)\n",
            "Requirement already satisfied: pillow>=6.2.0 in /usr/local/lib/python3.10/dist-packages (from matplotlib) (9.4.0)\n",
            "Requirement already satisfied: pyparsing>=2.3.1 in /usr/local/lib/python3.10/dist-packages (from matplotlib) (3.1.2)\n",
            "Requirement already satisfied: python-dateutil>=2.7 in /usr/local/lib/python3.10/dist-packages (from matplotlib) (2.8.2)\n",
            "Requirement already satisfied: six>=1.5 in /usr/local/lib/python3.10/dist-packages (from python-dateutil>=2.7->matplotlib) (1.16.0)\n"
          ]
        }
      ]
    },
    {
      "cell_type": "code",
      "source": [
        "!pip install pandas"
      ],
      "metadata": {
        "colab": {
          "base_uri": "https://localhost:8080/"
        },
        "id": "b1MuWh2vztJU",
        "outputId": "da59e102-e45a-4243-c1e7-1e9268debfb3"
      },
      "execution_count": null,
      "outputs": [
        {
          "output_type": "stream",
          "name": "stdout",
          "text": [
            "Requirement already satisfied: pandas in /usr/local/lib/python3.10/dist-packages (2.0.3)\n",
            "Requirement already satisfied: python-dateutil>=2.8.2 in /usr/local/lib/python3.10/dist-packages (from pandas) (2.8.2)\n",
            "Requirement already satisfied: pytz>=2020.1 in /usr/local/lib/python3.10/dist-packages (from pandas) (2023.4)\n",
            "Requirement already satisfied: tzdata>=2022.1 in /usr/local/lib/python3.10/dist-packages (from pandas) (2024.1)\n",
            "Requirement already satisfied: numpy>=1.21.0 in /usr/local/lib/python3.10/dist-packages (from pandas) (1.25.2)\n",
            "Requirement already satisfied: six>=1.5 in /usr/local/lib/python3.10/dist-packages (from python-dateutil>=2.8.2->pandas) (1.16.0)\n"
          ]
        }
      ]
    },
    {
      "cell_type": "markdown",
      "source": [
        "# Basic Data Types"
      ],
      "metadata": {
        "id": "02frr3xOzx-2"
      }
    },
    {
      "cell_type": "code",
      "source": [
        "# Integer\n",
        "integer_var = 10\n",
        "\n",
        "# Float\n",
        "float_var = 3.14\n",
        "\n",
        "# String\n",
        "string_var = \"Hello, World!\"\n",
        "\n",
        "# Boolean\n",
        "boolean_var = True\n",
        "\n",
        "# List\n",
        "list_var = [1, 2, 3, 4, 5]\n",
        "\n",
        "# Tuple\n",
        "tuple_var = (1, 2, 3, 4, 5)\n",
        "\n",
        "# Set\n",
        "set_var = {1, 2, 3, 4, 5}\n",
        "\n",
        "# Dictionary\n",
        "dictionary_var = {'name': 'John', 'age': 30, 'city': 'New York'}\n",
        "\n",
        "# NoneType\n",
        "none_var = None\n",
        "\n",
        "# Print the variables\n",
        "print(\"Integer Variable:\", integer_var)\n",
        "print(\"Float Variable:\", float_var)\n",
        "print(\"String Variable:\", string_var)\n",
        "print(\"Boolean Variable:\", boolean_var)\n",
        "print(\"List Variable:\", list_var)\n",
        "print(\"Tuple Variable:\", tuple_var)\n",
        "print(\"Set Variable:\", set_var)\n",
        "print(\"Dictionary Variable:\", dictionary_var)\n",
        "print(\"None Variable:\", none_var)\n"
      ],
      "metadata": {
        "colab": {
          "base_uri": "https://localhost:8080/"
        },
        "id": "qOtEAivwz2Vw",
        "outputId": "b1328e2f-5d37-48bb-a12c-795cba3ea2a5"
      },
      "execution_count": null,
      "outputs": [
        {
          "output_type": "stream",
          "name": "stdout",
          "text": [
            "Integer Variable: 10\n",
            "Float Variable: 3.14\n",
            "String Variable: Hello, World!\n",
            "Boolean Variable: True\n",
            "List Variable: [1, 2, 3, 4, 5]\n",
            "Tuple Variable: (1, 2, 3, 4, 5)\n",
            "Set Variable: {1, 2, 3, 4, 5}\n",
            "Dictionary Variable: {'name': 'John', 'age': 30, 'city': 'New York'}\n",
            "None Variable: None\n"
          ]
        }
      ]
    },
    {
      "cell_type": "markdown",
      "source": [
        "# Variables, operators, and expressions.\n"
      ],
      "metadata": {
        "id": "WS9TMdey0ViN"
      }
    },
    {
      "cell_type": "code",
      "source": [
        "# Variables\n",
        "x = 8\n",
        "y = 4\n",
        "\n",
        "# Arithmetic Operators\n",
        "addition = x + y\n",
        "subtraction = x - y\n",
        "multiplication = x * y\n",
        "division = x / y\n",
        "modulo = x % y\n",
        "exponentiation = x ** y\n",
        "\n",
        "# Expressions\n",
        "expression1 = (x + y) * (x - y)\n",
        "expression2 = x ** 2 + 2 * x * y + y ** 2\n"
      ],
      "metadata": {
        "id": "gj-rIJqS0Ymo"
      },
      "execution_count": null,
      "outputs": []
    },
    {
      "cell_type": "code",
      "source": [
        "print(modulo)"
      ],
      "metadata": {
        "colab": {
          "base_uri": "https://localhost:8080/"
        },
        "id": "nBilMx9q0sL1",
        "outputId": "e5225780-904b-4182-ad74-59ed12f17c93"
      },
      "execution_count": null,
      "outputs": [
        {
          "output_type": "stream",
          "name": "stdout",
          "text": [
            "0\n"
          ]
        }
      ]
    },
    {
      "cell_type": "markdown",
      "source": [
        "# Control Flow"
      ],
      "metadata": {
        "id": "b3xQen-W0oeq"
      }
    },
    {
      "cell_type": "code",
      "source": [
        "# If-Else Statements\n",
        "age = 20\n",
        "if age >= 18:\n",
        "    print(\"You are an adult.\")\n",
        "else:\n",
        "    print(\"You are a minor.\")\n",
        "\n",
        "# Loops\n",
        "# For loop\n",
        "for i in range(5):\n",
        "    print(i)\n",
        "\n",
        "# While loop\n",
        "count = 0\n",
        "while count < 5:\n",
        "    print(count)\n",
        "    count += 1\n"
      ],
      "metadata": {
        "colab": {
          "base_uri": "https://localhost:8080/"
        },
        "id": "NlidfrGG0qhj",
        "outputId": "761bb0ec-929d-4208-8193-fdab8aeb757c"
      },
      "execution_count": null,
      "outputs": [
        {
          "output_type": "stream",
          "name": "stdout",
          "text": [
            "You are an adult.\n",
            "0\n",
            "1\n",
            "2\n",
            "3\n",
            "4\n",
            "0\n",
            "1\n",
            "2\n",
            "3\n",
            "4\n"
          ]
        }
      ]
    },
    {
      "cell_type": "markdown",
      "source": [
        "#Hands-on Exercise"
      ],
      "metadata": {
        "id": "jfFo8Uq81hvC"
      }
    },
    {
      "cell_type": "code",
      "source": [
        "#program untuk menghitung luas segitiga\n",
        "a = float(input(\"Jarak a= \"))\n",
        "b = float(input(\"Jarak b= \"))\n",
        "c = float(input(\"Jarak c= \"))\n",
        "\n",
        "\n",
        "#menghitung semi-paramater\n",
        "s = (a+b+c)/2\n",
        "\n",
        "\n",
        "#menghitung luas segitiga\n",
        "area = (s*(s-a)*(s-b)*(s-c))**0.5\n",
        "\n",
        "\n",
        "print(f\"Luas area segitiga adalah {round(area,2)} satuan unit luas\")"
      ],
      "metadata": {
        "colab": {
          "base_uri": "https://localhost:8080/"
        },
        "id": "iog1KgAp1kMr",
        "outputId": "108745f0-d818-427f-e60c-2b1118bba2d3"
      },
      "execution_count": null,
      "outputs": [
        {
          "output_type": "stream",
          "name": "stdout",
          "text": [
            "Jarak a= 3\n",
            "Jarak b= 5\n",
            "Jarak c= 6\n",
            "Luas area segitiga adalah 7.48 satuan unit luas\n"
          ]
        }
      ]
    },
    {
      "cell_type": "code",
      "source": [
        "#program untuk menghilangkan tanda baca pada sebuah teks\n",
        "punctuations = '''!()-[]{};:'\"\\,<>./?@#$%^&*_~'''\n",
        "\n",
        "\n",
        "teks = str(input(\"Masukkan kalimat dengan tanda baca: \"))\n",
        "\n",
        "\n",
        "no_punct = \"\"\n",
        "for char in teks:\n",
        "   if char not in punctuations:\n",
        "       no_punct = no_punct + char\n",
        "\n",
        "\n",
        "print(no_punct)"
      ],
      "metadata": {
        "colab": {
          "base_uri": "https://localhost:8080/"
        },
        "id": "Du6R-tzM2o2q",
        "outputId": "2a8c58a3-7244-4832-a344-1befcb586243"
      },
      "execution_count": null,
      "outputs": [
        {
          "output_type": "stream",
          "name": "stdout",
          "text": [
            "Masukkan kalimat dengan tanda baca: ada koma, ada titik.\n",
            "ada koma ada titik\n"
          ]
        }
      ]
    },
    {
      "cell_type": "code",
      "source": [
        "#program untuk cek bilangan prima\n",
        "num = int(input(\"Masukkan bilangan= \"))\n",
        "\n",
        "\n",
        "flag = False\n",
        "if num == 1:\n",
        "  print(num, \"adalah bukan bilangan prima\")\n",
        "elif num > 1:\n",
        "  for i in range(2,num):\n",
        "    if num % i == 0:\n",
        "      flag = True\n",
        "    break\n",
        "if flag:\n",
        "  print(num, \"adalah bukan bilangan prima\")\n",
        "else:\n",
        "  print(num, \"adalah bilangan prima\")"
      ],
      "metadata": {
        "colab": {
          "base_uri": "https://localhost:8080/"
        },
        "id": "iWyjg_252o9z",
        "outputId": "4d7c7289-47be-4c76-e918-fc02534d9b5d"
      },
      "execution_count": null,
      "outputs": [
        {
          "output_type": "stream",
          "name": "stdout",
          "text": [
            "Masukkan bilangan= 22\n",
            "22 adalah bukan bilangan prima\n"
          ]
        }
      ]
    }
  ]
}