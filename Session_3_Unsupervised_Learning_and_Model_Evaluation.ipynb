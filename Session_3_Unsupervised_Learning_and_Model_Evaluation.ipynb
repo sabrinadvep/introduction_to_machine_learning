{
  "nbformat": 4,
  "nbformat_minor": 0,
  "metadata": {
    "colab": {
      "provenance": [],
      "authorship_tag": "ABX9TyNFEYWJ6mEuGmtmN4Hl1+uq",
      "include_colab_link": true
    },
    "kernelspec": {
      "name": "python3",
      "display_name": "Python 3"
    },
    "language_info": {
      "name": "python"
    }
  },
  "cells": [
    {
      "cell_type": "markdown",
      "metadata": {
        "id": "view-in-github",
        "colab_type": "text"
      },
      "source": [
        "<a href=\"https://colab.research.google.com/github/sabrinadvep/introduction_to_machine_learning/blob/main/Session_3_Unsupervised_Learning_and_Model_Evaluation.ipynb\" target=\"_parent\"><img src=\"https://colab.research.google.com/assets/colab-badge.svg\" alt=\"Open In Colab\"/></a>"
      ]
    },
    {
      "cell_type": "markdown",
      "source": [
        "Unsupervised Learning"
      ],
      "metadata": {
        "id": "RFbCRJXd1RKq"
      }
    },
    {
      "cell_type": "markdown",
      "source": [
        "# Grouping objects by similarity using k-means"
      ],
      "metadata": {
        "id": "xoY5D_dI1Vqh"
      }
    },
    {
      "cell_type": "markdown",
      "source": [
        "## K-means clustering using scikit-learn"
      ],
      "metadata": {
        "id": "QTyQJiGq1X1R"
      }
    },
    {
      "cell_type": "code",
      "execution_count": null,
      "metadata": {
        "id": "B9_0UmSaauVk"
      },
      "outputs": [],
      "source": [
        "from sklearn.datasets import make_blobs\n",
        "\n",
        "X, y = make_blobs(n_samples=150,\n",
        "                  n_features=2,\n",
        "                  centers=3,\n",
        "                  cluster_std=0.5,\n",
        "                  shuffle=True,\n",
        "                  random_state=0)"
      ]
    },
    {
      "cell_type": "code",
      "source": [
        "import matplotlib.pyplot as plt\n",
        "\n",
        "plt.scatter(X[:, 0], X[:, 1],\n",
        "            c='white', marker='o', edgecolor='black', s=50)\n",
        "plt.grid()\n",
        "plt.tight_layout()\n",
        "#plt.savefig('images/11_01.png', dpi=300)\n",
        "plt.show()"
      ],
      "metadata": {
        "colab": {
          "base_uri": "https://localhost:8080/",
          "height": 487
        },
        "id": "g1Xrt-7b9sDe",
        "outputId": "e0c23ba9-280d-4af8-9d94-c315101372a3"
      },
      "execution_count": null,
      "outputs": [
        {
          "output_type": "display_data",
          "data": {
            "text/plain": [
              "<Figure size 640x480 with 1 Axes>"
            ],
            "image/png": "[encoded data removed]"
          },
          "metadata": {}
        }
      ]
    },
    {
      "cell_type": "code",
      "source": [
        "from sklearn.cluster import KMeans\n",
        "\n",
        "km = KMeans(n_clusters=3, #kita set sendiri initial number\n",
        "            init='random',\n",
        "            n_init=10, ## untuk run k-means clustering 10x dengan different random centroids to choose the final model as the one with the lowerst SSE\n",
        "            max_iter=300, ## max number iteration\n",
        "            tol=1e-04, ##parameter untuk toleransi 0.0001\n",
        "            random_state=0)\n",
        "\n",
        "y_km = km.fit_predict(X)"
      ],
      "metadata": {
        "id": "Khq5gq1kA_L-"
      },
      "execution_count": null,
      "outputs": []
    },
    {
      "cell_type": "code",
      "source": [
        "plt.scatter(X[y_km == 0, 0],\n",
        "            X[y_km == 0, 1],\n",
        "            s=50, c='lightgreen',\n",
        "            marker='s', edgecolor='black',\n",
        "            label='Cluster 1')\n",
        "plt.scatter(X[y_km == 1, 0],\n",
        "            X[y_km == 1, 1],\n",
        "            s=50, c='orange',\n",
        "            marker='o', edgecolor='black',\n",
        "            label='Cluster 2')\n",
        "plt.scatter(X[y_km == 2, 0],\n",
        "            X[y_km == 2, 1],\n",
        "            s=50, c='lightblue',\n",
        "            marker='v', edgecolor='black',\n",
        "            label='Cluster 3')\n",
        "plt.scatter(km.cluster_centers_[:, 0],\n",
        "            km.cluster_centers_[:, 1],\n",
        "            s=250, marker='*',\n",
        "            c='red', edgecolor='black',\n",
        "            label='Centroids')\n",
        "plt.legend(scatterpoints=1)\n",
        "plt.grid()\n",
        "plt.tight_layout()\n",
        "#plt.savefig('images/11_02.png', dpi=300)\n",
        "plt.show()"
      ],
      "metadata": {
        "colab": {
          "base_uri": "https://localhost:8080/",
          "height": 487
        },
        "id": "tRxbADg-BBLL",
        "outputId": "a0d1e47f-8464-4e54-8acb-b4317461ac0c"
      },
      "execution_count": null,
      "outputs": [
        {
          "output_type": "display_data",
          "data": {
            "text/plain": [
              "<Figure size 640x480 with 1 Axes>"
            ],
            "image/png": "[encoded data removed]"
          },
          "metadata": {}
        }
      ]
    },
    {
      "cell_type": "markdown",
      "source": [
        "In the following scatterplot, we can see that k-means placeed the three centroids at the center of each sphere, which looks like a reasonable grouping.\n",
        "\n",
        "Although k-means worked well on this toy dataset, we chall highlight another drawback of k-means: we have to specify the number of clusters (k).\n",
        "The number of clusters to choose may not always be so obvious in the real-world applications, especially if we are working with a higher dimensional dataset that cannot be visualized."
      ],
      "metadata": {
        "id": "yxxtfBU7B4dM"
      }
    },
    {
      "cell_type": "markdown",
      "source": [
        "# Using the elbow method to find the optimal number of clusters"
      ],
      "metadata": {
        "id": "9_GYWWDbFyV0"
      }
    },
    {
      "cell_type": "code",
      "source": [
        "print('Distortion: %.2f' % km.inertia_)"
      ],
      "metadata": {
        "colab": {
          "base_uri": "https://localhost:8080/"
        },
        "id": "cPkB33KJCBMx",
        "outputId": "3e6e4063-5744-4b03-8bcc-5957bc378fd6"
      },
      "execution_count": null,
      "outputs": [
        {
          "output_type": "stream",
          "name": "stdout",
          "text": [
            "Distortion: 72.48\n"
          ]
        }
      ]
    },
    {
      "cell_type": "code",
      "source": [
        "distortions = []\n",
        "for i in range(1, 11):\n",
        "    km = KMeans(n_clusters=i,\n",
        "                init='k-means++',\n",
        "                n_init=10,\n",
        "                max_iter=300,\n",
        "                random_state=0)\n",
        "    km.fit(X)\n",
        "    distortions.append(km.inertia_)\n",
        "plt.plot(range(1, 11), distortions, marker='o')\n",
        "plt.xlabel('Number of clusters')\n",
        "plt.ylabel('Distortion')\n",
        "plt.tight_layout()\n",
        "#plt.savefig('images/11_03.png', dpi=300)\n",
        "plt.show()"
      ],
      "metadata": {
        "colab": {
          "base_uri": "https://localhost:8080/",
          "height": 487
        },
        "id": "DJ-9Y2HSF6hh",
        "outputId": "2347aae8-0729-444f-f518-8bc79aeaf108"
      },
      "execution_count": null,
      "outputs": [
        {
          "output_type": "display_data",
          "data": {
            "text/plain": [
              "<Figure size 640x480 with 1 Axes>"
            ],
            "image/png": "[encoded data removed]"
          },
          "metadata": {}
        }
      ]
    },
    {
      "cell_type": "markdown",
      "source": [
        "# Quantifying the quality of clustering via silhoutte plots"
      ],
      "metadata": {
        "id": "bf-RiRm7GA7E"
      }
    },
    {
      "cell_type": "markdown",
      "source": [
        "Sillhoutte analysis can be used as a graphical tool to plot a measure of how tightly grouped the samples in the clusters are.\n",
        "Steps:\n",
        "1. Calculate the cluster cohesian\n",
        "2. Calculate the cluster separation\n",
        "3. Calculate the silhouette coefficient (-1 to 1)\n",
        "\n",
        "Silhouette coefficient = 0 if cluster separation = cluster cohesion.\n",
        "ideal silhouette coef = 1 if cluster separation > cluster cohesion."
      ],
      "metadata": {
        "id": "vPbagmyxGTTU"
      }
    },
    {
      "cell_type": "code",
      "source": [
        "import numpy as np\n",
        "from matplotlib import cm\n",
        "from sklearn.metrics import silhouette_samples\n",
        "\n",
        "km = KMeans(n_clusters=3,\n",
        "            init='k-means++',\n",
        "            n_init=10,\n",
        "            max_iter=300,\n",
        "            tol=1e-04,\n",
        "            random_state=0)\n",
        "y_km = km.fit_predict(X)\n",
        "\n",
        "cluster_labels = np.unique(y_km)\n",
        "n_clusters = cluster_labels.shape[0]\n",
        "silhouette_vals = silhouette_samples(X, y_km, metric='euclidean')\n",
        "y_ax_lower, y_ax_upper = 0, 0\n",
        "yticks = []\n",
        "for i, c in enumerate(cluster_labels):\n",
        "    c_silhouette_vals = silhouette_vals[y_km == c]\n",
        "    c_silhouette_vals.sort()\n",
        "    y_ax_upper += len(c_silhouette_vals)\n",
        "    color = cm.jet(float(i) / n_clusters)\n",
        "    plt.barh(range(y_ax_lower, y_ax_upper), c_silhouette_vals, height=1.0,\n",
        "             edgecolor='none', color=color)\n",
        "\n",
        "    yticks.append((y_ax_lower + y_ax_upper) / 2.)\n",
        "    y_ax_lower += len(c_silhouette_vals)\n",
        "\n",
        "silhouette_avg = np.mean(silhouette_vals)\n",
        "plt.axvline(silhouette_avg, color=\"red\", linestyle=\"--\")\n",
        "\n",
        "plt.yticks(yticks, cluster_labels + 1)\n",
        "plt.ylabel('Cluster')\n",
        "plt.xlabel('Silhouette coefficient')\n",
        "\n",
        "plt.tight_layout()\n",
        "#plt.savefig('images/11_04.png', dpi=300)\n",
        "plt.show()"
      ],
      "metadata": {
        "colab": {
          "base_uri": "https://localhost:8080/",
          "height": 487
        },
        "id": "d6IzJn3aGEM0",
        "outputId": "35434c97-730c-4a23-d8a5-0e870fb4c302"
      },
      "execution_count": null,
      "outputs": [
        {
          "output_type": "display_data",
          "data": {
            "text/plain": [
              "<Figure size 640x480 with 1 Axes>"
            ],
            "image/png": "[encoded data removed]"
          },
          "metadata": {}
        }
      ]
    },
    {
      "cell_type": "markdown",
      "source": [
        "As we can see in the preceding silhoutte plot, the silhouette plot, the silhoutte coefficients are not even close to 0, which is in this case an indicator of a good clustering.\n",
        "Furthermore, to summarize the goodness of our clustering, we added the average silhoutte coefficient to the plot (dotted line)."
      ],
      "metadata": {
        "id": "M0K4rN43I-dL"
      }
    },
    {
      "cell_type": "markdown",
      "source": [
        "Comparison to \"bad\" clustering:"
      ],
      "metadata": {
        "id": "vZFrEJ5OKoYd"
      }
    },
    {
      "cell_type": "code",
      "source": [
        "km = KMeans(n_clusters=2,\n",
        "            init='k-means++',\n",
        "            n_init=10,\n",
        "            max_iter=300,\n",
        "            tol=1e-04,\n",
        "            random_state=0)\n",
        "y_km = km.fit_predict(X)\n",
        "\n",
        "plt.scatter(X[y_km == 0, 0],\n",
        "            X[y_km == 0, 1],\n",
        "            s=50,\n",
        "            c='lightgreen',\n",
        "            edgecolor='black',\n",
        "            marker='s',\n",
        "            label='Cluster 1')\n",
        "plt.scatter(X[y_km == 1, 0],\n",
        "            X[y_km == 1, 1],\n",
        "            s=50,\n",
        "            c='orange',\n",
        "            edgecolor='black',\n",
        "            marker='o',\n",
        "            label='Cluster 2')\n",
        "\n",
        "plt.scatter(km.cluster_centers_[:, 0], km.cluster_centers_[:, 1],\n",
        "            s=250, marker='*', c='red', label='Centroids')\n",
        "plt.legend()\n",
        "plt.grid()\n",
        "plt.tight_layout()\n",
        "#plt.savefig('images/11_05.png', dpi=300)\n",
        "plt.show()\n"
      ],
      "metadata": {
        "colab": {
          "base_uri": "https://localhost:8080/",
          "height": 487
        },
        "id": "MYnu_-zDIFBa",
        "outputId": "d5657769-c8ad-44d2-c289-e3bfc99f4faa"
      },
      "execution_count": null,
      "outputs": [
        {
          "output_type": "display_data",
          "data": {
            "text/plain": [
              "<Figure size 640x480 with 1 Axes>"
            ],
            "image/png": "[encoded data removed]"
          },
          "metadata": {}
        }
      ]
    },
    {
      "cell_type": "code",
      "source": [
        "cluster_labels = np.unique(y_km)\n",
        "n_clusters = cluster_labels.shape[0]\n",
        "silhouette_vals = silhouette_samples(X, y_km, metric='euclidean')\n",
        "y_ax_lower, y_ax_upper = 0, 0\n",
        "yticks = []\n",
        "for i, c in enumerate(cluster_labels):\n",
        "    c_silhouette_vals = silhouette_vals[y_km == c]\n",
        "    c_silhouette_vals.sort()\n",
        "    y_ax_upper += len(c_silhouette_vals)\n",
        "    color = cm.jet(float(i) / n_clusters)\n",
        "    plt.barh(range(y_ax_lower, y_ax_upper), c_silhouette_vals, height=1.0,\n",
        "             edgecolor='none', color=color)\n",
        "\n",
        "    yticks.append((y_ax_lower + y_ax_upper) / 2.)\n",
        "    y_ax_lower += len(c_silhouette_vals)\n",
        "\n",
        "silhouette_avg = np.mean(silhouette_vals)\n",
        "plt.axvline(silhouette_avg, color=\"red\", linestyle=\"--\")\n",
        "\n",
        "plt.yticks(yticks, cluster_labels + 1)\n",
        "plt.ylabel('Cluster')\n",
        "plt.xlabel('Silhouette coefficient')\n",
        "\n",
        "plt.tight_layout()\n",
        "#plt.savefig('images/11_06.png', dpi=300)\n",
        "plt.show()"
      ],
      "metadata": {
        "colab": {
          "base_uri": "https://localhost:8080/",
          "height": 487
        },
        "id": "HM8Fg-iFKtoE",
        "outputId": "fe1ea04a-2b20-4538-d592-7558bf57a96f"
      },
      "execution_count": null,
      "outputs": [
        {
          "output_type": "display_data",
          "data": {
            "text/plain": [
              "<Figure size 640x480 with 1 Axes>"
            ],
            "image/png": "[encoded data removed]"
          },
          "metadata": {}
        }
      ]
    },
    {
      "cell_type": "markdown",
      "source": [
        "As we can see in the resulting plot, the silhouettes now have visibly different lengths and widths, which is evidence for a relatively bad or at least suboptimal clustering."
      ],
      "metadata": {
        "id": "_wghTgsAKviU"
      }
    },
    {
      "cell_type": "markdown",
      "source": [
        "# Model Evaluation"
      ],
      "metadata": {
        "id": "JwWFpbHIX1Zu"
      }
    },
    {
      "cell_type": "markdown",
      "source": [
        "## Cross-validation"
      ],
      "metadata": {
        "id": "7Ssufhc9X8p1"
      }
    },
    {
      "cell_type": "code",
      "source": [
        "import pandas as pd\n",
        "\n",
        "df = pd.read_csv('https://archive.ics.uci.edu/ml/'\n",
        "                 'machine-learning-databases'\n",
        "                 '/breast-cancer-wisconsin/wdbc.data', header=None)\n",
        "\n",
        "# if the Breast Cancer dataset is temporarily unavailable from the\n",
        "# UCI machine learning repository, un-comment the following line\n",
        "# of code to load the dataset from a local path:\n",
        "\n",
        "# df = pd.read_csv('wdbc.data', header=None)\n",
        "\n",
        "df.head()"
      ],
      "metadata": {
        "colab": {
          "base_uri": "https://localhost:8080/",
          "height": 236
        },
        "id": "bBr-ALJhapev",
        "outputId": "e4e042d8-cadc-4b57-8a47-e676745354e6"
      },
      "execution_count": null,
      "outputs": [
        {
          "output_type": "execute_result",
          "data": {
            "text/plain": [
              "         0  1      2      3       4       5        6        7       8   \\\n",
              "0    842302  M  17.99  10.38  122.80  1001.0  0.11840  0.27760  0.3001   \n",
              "1    842517  M  20.57  17.77  132.90  1326.0  0.08474  0.07864  0.0869   \n",
              "2  84300903  M  19.69  21.25  130.00  1203.0  0.10960  0.15990  0.1974   \n",
              "3  84348301  M  11.42  20.38   77.58   386.1  0.14250  0.28390  0.2414   \n",
              "4  84358402  M  20.29  14.34  135.10  1297.0  0.10030  0.13280  0.1980   \n",
              "\n",
              "        9   ...     22     23      24      25      26      27      28      29  \\\n",
              "0  0.14710  ...  25.38  17.33  184.60  2019.0  0.1622  0.6656  0.7119  0.2654   \n",
              "1  0.07017  ...  24.99  23.41  158.80  1956.0  0.1238  0.1866  0.2416  0.1860   \n",
              "2  0.12790  ...  23.57  25.53  152.50  1709.0  0.1444  0.4245  0.4504  0.2430   \n",
              "3  0.10520  ...  14.91  26.50   98.87   567.7  0.2098  0.8663  0.6869  0.2575   \n",
              "4  0.10430  ...  22.54  16.67  152.20  1575.0  0.1374  0.2050  0.4000  0.1625   \n",
              "\n",
              "       30       31  \n",
              "0  0.4601  0.11890  \n",
              "1  0.2750  0.08902  \n",
              "2  0.3613  0.08758  \n",
              "3  0.6638  0.17300  \n",
              "4  0.2364  0.07678  \n",
              "\n",
              "[5 rows x 32 columns]"
            ],
            "text/html": [
              "\n",
              "  <div id=\"df-7a0b3009-325f-4a16-baa2-ae8c0e1991a0\" class=\"colab-df-container\">\n",
              "    <div>\n",
              "<style scoped>\n",
              "    .dataframe tbody tr th:only-of-type {\n",
              "        vertical-align: middle;\n",
              "    }\n",
              "\n",
              "    .dataframe tbody tr th {\n",
              "        vertical-align: top;\n",
              "    }\n",
              "\n",
              "    .dataframe thead th {\n",
              "        text-align: right;\n",
              "    }\n",
              "</style>\n",
              "<table border=\"1\" class=\"dataframe\">\n",
              "  <thead>\n",
              "    <tr style=\"text-align: right;\">\n",
              "      <th></th>\n",
              "      <th>0</th>\n",
              "      <th>1</th>\n",
              "      <th>2</th>\n",
              "      <th>3</th>\n",
              "      <th>4</th>\n",
              "      <th>5</th>\n",
              "      <th>6</th>\n",
              "      <th>7</th>\n",
              "      <th>8</th>\n",
              "      <th>9</th>\n",
              "      <th>...</th>\n",
              "      <th>22</th>\n",
              "      <th>23</th>\n",
              "      <th>24</th>\n",
              "      <th>25</th>\n",
              "      <th>26</th>\n",
              "      <th>27</th>\n",
              "      <th>28</th>\n",
              "      <th>29</th>\n",
              "      <th>30</th>\n",
              "      <th>31</th>\n",
              "    </tr>\n",
              "  </thead>\n",
              "  <tbody>\n",
              "    <tr>\n",
              "      <th>0</th>\n",
              "      <td>842302</td>\n",
              "      <td>M</td>\n",
              "      <td>17.99</td>\n",
              "      <td>10.38</td>\n",
              "      <td>122.80</td>\n",
              "      <td>1001.0</td>\n",
              "      <td>0.11840</td>\n",
              "      <td>0.27760</td>\n",
              "      <td>0.3001</td>\n",
              "      <td>0.14710</td>\n",
              "      <td>...</td>\n",
              "      <td>25.38</td>\n",
              "      <td>17.33</td>\n",
              "      <td>184.60</td>\n",
              "      <td>2019.0</td>\n",
              "      <td>0.1622</td>\n",
              "      <td>0.6656</td>\n",
              "      <td>0.7119</td>\n",
              "      <td>0.2654</td>\n",
              "      <td>0.4601</td>\n",
              "      <td>0.11890</td>\n",
              "    </tr>\n",
              "    <tr>\n",
              "      <th>1</th>\n",
              "      <td>842517</td>\n",
              "      <td>M</td>\n",
              "      <td>20.57</td>\n",
              "      <td>17.77</td>\n",
              "      <td>132.90</td>\n",
              "      <td>1326.0</td>\n",
              "      <td>0.08474</td>\n",
              "      <td>0.07864</td>\n",
              "      <td>0.0869</td>\n",
              "      <td>0.07017</td>\n",
              "      <td>...</td>\n",
              "      <td>24.99</td>\n",
              "      <td>23.41</td>\n",
              "      <td>158.80</td>\n",
              "      <td>1956.0</td>\n",
              "      <td>0.1238</td>\n",
              "      <td>0.1866</td>\n",
              "      <td>0.2416</td>\n",
              "      <td>0.1860</td>\n",
              "      <td>0.2750</td>\n",
              "      <td>0.08902</td>\n",
              "    </tr>\n",
              "    <tr>\n",
              "      <th>2</th>\n",
              "      <td>84300903</td>\n",
              "      <td>M</td>\n",
              "      <td>19.69</td>\n",
              "      <td>21.25</td>\n",
              "      <td>130.00</td>\n",
              "      <td>1203.0</td>\n",
              "      <td>0.10960</td>\n",
              "      <td>0.15990</td>\n",
              "      <td>0.1974</td>\n",
              "      <td>0.12790</td>\n",
              "      <td>...</td>\n",
              "      <td>23.57</td>\n",
              "      <td>25.53</td>\n",
              "      <td>152.50</td>\n",
              "      <td>1709.0</td>\n",
              "      <td>0.1444</td>\n",
              "      <td>0.4245</td>\n",
              "      <td>0.4504</td>\n",
              "      <td>0.2430</td>\n",
              "      <td>0.3613</td>\n",
              "      <td>0.08758</td>\n",
              "    </tr>\n",
              "    <tr>\n",
              "      <th>3</th>\n",
              "      <td>84348301</td>\n",
              "      <td>M</td>\n",
              "      <td>11.42</td>\n",
              "      <td>20.38</td>\n",
              "      <td>77.58</td>\n",
              "      <td>386.1</td>\n",
              "      <td>0.14250</td>\n",
              "      <td>0.28390</td>\n",
              "      <td>0.2414</td>\n",
              "      <td>0.10520</td>\n",
              "      <td>...</td>\n",
              "      <td>14.91</td>\n",
              "      <td>26.50</td>\n",
              "      <td>98.87</td>\n",
              "      <td>567.7</td>\n",
              "      <td>0.2098</td>\n",
              "      <td>0.8663</td>\n",
              "      <td>0.6869</td>\n",
              "      <td>0.2575</td>\n",
              "      <td>0.6638</td>\n",
              "      <td>0.17300</td>\n",
              "    </tr>\n",
              "    <tr>\n",
              "      <th>4</th>\n",
              "      <td>84358402</td>\n",
              "      <td>M</td>\n",
              "      <td>20.29</td>\n",
              "      <td>14.34</td>\n",
              "      <td>135.10</td>\n",
              "      <td>1297.0</td>\n",
              "      <td>0.10030</td>\n",
              "      <td>0.13280</td>\n",
              "      <td>0.1980</td>\n",
              "      <td>0.10430</td>\n",
              "      <td>...</td>\n",
              "      <td>22.54</td>\n",
              "      <td>16.67</td>\n",
              "      <td>152.20</td>\n",
              "      <td>1575.0</td>\n",
              "      <td>0.1374</td>\n",
              "      <td>0.2050</td>\n",
              "      <td>0.4000</td>\n",
              "      <td>0.1625</td>\n",
              "      <td>0.2364</td>\n",
              "      <td>0.07678</td>\n",
              "    </tr>\n",
              "  </tbody>\n",
              "</table>\n",
              "<p>5 rows × 32 columns</p>\n",
              "</div>\n",
              "    <div class=\"colab-df-buttons\">\n",
              "\n",
              "  <div class=\"colab-df-container\">\n",
              "    <button class=\"colab-df-convert\" onclick=\"convertToInteractive('df-7a0b3009-325f-4a16-baa2-ae8c0e1991a0')\"\n",
              "            title=\"Convert this dataframe to an interactive table.\"\n",
              "            style=\"display:none;\">\n",
              "\n",
              "  <svg xmlns=\"http://www.w3.org/2000/svg\" height=\"24px\" viewBox=\"0 -960 960 960\">\n",
              "    <path d=\"M120-120v-720h720v720H120Zm60-500h600v-160H180v160Zm220 220h160v-160H400v160Zm0 220h160v-160H400v160ZM180-400h160v-160H180v160Zm440 0h160v-160H620v160ZM180-180h160v-160H180v160Zm440 0h160v-160H620v160Z\"/>\n",
              "  </svg>\n",
              "    </button>\n",
              "\n",
              "  <style>\n",
              "    .colab-df-container {\n",
              "      display:flex;\n",
              "      gap: 12px;\n",
              "    }\n",
              "\n",
              "    .colab-df-convert {\n",
              "      background-color: #E8F0FE;\n",
              "      border: none;\n",
              "      border-radius: 50%;\n",
              "      cursor: pointer;\n",
              "      display: none;\n",
              "      fill: #1967D2;\n",
              "      height: 32px;\n",
              "      padding: 0 0 0 0;\n",
              "      width: 32px;\n",
              "    }\n",
              "\n",
              "    .colab-df-convert:hover {\n",
              "      background-color: #E2EBFA;\n",
              "      box-shadow: 0px 1px 2px rgba(60, 64, 67, 0.3), 0px 1px 3px 1px rgba(60, 64, 67, 0.15);\n",
              "      fill: #174EA6;\n",
              "    }\n",
              "\n",
              "    .colab-df-buttons div {\n",
              "      margin-bottom: 4px;\n",
              "    }\n",
              "\n",
              "    [theme=dark] .colab-df-convert {\n",
              "      background-color: #3B4455;\n",
              "      fill: #D2E3FC;\n",
              "    }\n",
              "\n",
              "    [theme=dark] .colab-df-convert:hover {\n",
              "      background-color: #434B5C;\n",
              "      box-shadow: 0px 1px 3px 1px rgba(0, 0, 0, 0.15);\n",
              "      filter: drop-shadow(0px 1px 2px rgba(0, 0, 0, 0.3));\n",
              "      fill: #FFFFFF;\n",
              "    }\n",
              "  </style>\n",
              "\n",
              "    <script>\n",
              "      const buttonEl =\n",
              "        document.querySelector('#df-7a0b3009-325f-4a16-baa2-ae8c0e1991a0 button.colab-df-convert');\n",
              "      buttonEl.style.display =\n",
              "        google.colab.kernel.accessAllowed ? 'block' : 'none';\n",
              "\n",
              "      async function convertToInteractive(key) {\n",
              "        const element = document.querySelector('#df-7a0b3009-325f-4a16-baa2-ae8c0e1991a0');\n",
              "        const dataTable =\n",
              "          await google.colab.kernel.invokeFunction('convertToInteractive',\n",
              "                                                    [key], {});\n",
              "        if (!dataTable) return;\n",
              "\n",
              "        const docLinkHtml = 'Like what you see? Visit the ' +\n",
              "          '<a target=\"_blank\" href=https://colab.research.google.com/notebooks/data_table.ipynb>data table notebook</a>'\n",
              "          + ' to learn more about interactive tables.';\n",
              "        element.innerHTML = '';\n",
              "        dataTable['output_type'] = 'display_data';\n",
              "        await google.colab.output.renderOutput(dataTable, element);\n",
              "        const docLink = document.createElement('div');\n",
              "        docLink.innerHTML = docLinkHtml;\n",
              "        element.appendChild(docLink);\n",
              "      }\n",
              "    </script>\n",
              "  </div>\n",
              "\n",
              "\n",
              "<div id=\"df-b00fcd8c-e946-41c5-8d48-44dbc89e2495\">\n",
              "  <button class=\"colab-df-quickchart\" onclick=\"quickchart('df-b00fcd8c-e946-41c5-8d48-44dbc89e2495')\"\n",
              "            title=\"Suggest charts\"\n",
              "            style=\"display:none;\">\n",
              "\n",
              "<svg xmlns=\"http://www.w3.org/2000/svg\" height=\"24px\"viewBox=\"0 0 24 24\"\n",
              "     width=\"24px\">\n",
              "    <g>\n",
              "        <path d=\"M19 3H5c-1.1 0-2 .9-2 2v14c0 1.1.9 2 2 2h14c1.1 0 2-.9 2-2V5c0-1.1-.9-2-2-2zM9 17H7v-7h2v7zm4 0h-2V7h2v10zm4 0h-2v-4h2v4z\"/>\n",
              "    </g>\n",
              "</svg>\n",
              "  </button>\n",
              "\n",
              "<style>\n",
              "  .colab-df-quickchart {\n",
              "      --bg-color: #E8F0FE;\n",
              "      --fill-color: #1967D2;\n",
              "      --hover-bg-color: #E2EBFA;\n",
              "      --hover-fill-color: #174EA6;\n",
              "      --disabled-fill-color: #AAA;\n",
              "      --disabled-bg-color: #DDD;\n",
              "  }\n",
              "\n",
              "  [theme=dark] .colab-df-quickchart {\n",
              "      --bg-color: #3B4455;\n",
              "      --fill-color: #D2E3FC;\n",
              "      --hover-bg-color: #434B5C;\n",
              "      --hover-fill-color: #FFFFFF;\n",
              "      --disabled-bg-color: #3B4455;\n",
              "      --disabled-fill-color: #666;\n",
              "  }\n",
              "\n",
              "  .colab-df-quickchart {\n",
              "    background-color: var(--bg-color);\n",
              "    border: none;\n",
              "    border-radius: 50%;\n",
              "    cursor: pointer;\n",
              "    display: none;\n",
              "    fill: var(--fill-color);\n",
              "    height: 32px;\n",
              "    padding: 0;\n",
              "    width: 32px;\n",
              "  }\n",
              "\n",
              "  .colab-df-quickchart:hover {\n",
              "    background-color: var(--hover-bg-color);\n",
              "    box-shadow: 0 1px 2px rgba(60, 64, 67, 0.3), 0 1px 3px 1px rgba(60, 64, 67, 0.15);\n",
              "    fill: var(--button-hover-fill-color);\n",
              "  }\n",
              "\n",
              "  .colab-df-quickchart-complete:disabled,\n",
              "  .colab-df-quickchart-complete:disabled:hover {\n",
              "    background-color: var(--disabled-bg-color);\n",
              "    fill: var(--disabled-fill-color);\n",
              "    box-shadow: none;\n",
              "  }\n",
              "\n",
              "  .colab-df-spinner {\n",
              "    border: 2px solid var(--fill-color);\n",
              "    border-color: transparent;\n",
              "    border-bottom-color: var(--fill-color);\n",
              "    animation:\n",
              "      spin 1s steps(1) infinite;\n",
              "  }\n",
              "\n",
              "  @keyframes spin {\n",
              "    0% {\n",
              "      border-color: transparent;\n",
              "      border-bottom-color: var(--fill-color);\n",
              "      border-left-color: var(--fill-color);\n",
              "    }\n",
              "    20% {\n",
              "      border-color: transparent;\n",
              "      border-left-color: var(--fill-color);\n",
              "      border-top-color: var(--fill-color);\n",
              "    }\n",
              "    30% {\n",
              "      border-color: transparent;\n",
              "      border-left-color: var(--fill-color);\n",
              "      border-top-color: var(--fill-color);\n",
              "      border-right-color: var(--fill-color);\n",
              "    }\n",
              "    40% {\n",
              "      border-color: transparent;\n",
              "      border-right-color: var(--fill-color);\n",
              "      border-top-color: var(--fill-color);\n",
              "    }\n",
              "    60% {\n",
              "      border-color: transparent;\n",
              "      border-right-color: var(--fill-color);\n",
              "    }\n",
              "    80% {\n",
              "      border-color: transparent;\n",
              "      border-right-color: var(--fill-color);\n",
              "      border-bottom-color: var(--fill-color);\n",
              "    }\n",
              "    90% {\n",
              "      border-color: transparent;\n",
              "      border-bottom-color: var(--fill-color);\n",
              "    }\n",
              "  }\n",
              "</style>\n",
              "\n",
              "  <script>\n",
              "    async function quickchart(key) {\n",
              "      const quickchartButtonEl =\n",
              "        document.querySelector('#' + key + ' button');\n",
              "      quickchartButtonEl.disabled = true;  // To prevent multiple clicks.\n",
              "      quickchartButtonEl.classList.add('colab-df-spinner');\n",
              "      try {\n",
              "        const charts = await google.colab.kernel.invokeFunction(\n",
              "            'suggestCharts', [key], {});\n",
              "      } catch (error) {\n",
              "        console.error('Error during call to suggestCharts:', error);\n",
              "      }\n",
              "      quickchartButtonEl.classList.remove('colab-df-spinner');\n",
              "      quickchartButtonEl.classList.add('colab-df-quickchart-complete');\n",
              "    }\n",
              "    (() => {\n",
              "      let quickchartButtonEl =\n",
              "        document.querySelector('#df-b00fcd8c-e946-41c5-8d48-44dbc89e2495 button');\n",
              "      quickchartButtonEl.style.display =\n",
              "        google.colab.kernel.accessAllowed ? 'block' : 'none';\n",
              "    })();\n",
              "  </script>\n",
              "</div>\n",
              "\n",
              "    </div>\n",
              "  </div>\n"
            ],
            "application/vnd.google.colaboratory.intrinsic+json": {
              "type": "dataframe",
              "variable_name": "df"
            }
          },
          "metadata": {},
          "execution_count": 3
        }
      ]
    },
    {
      "cell_type": "code",
      "source": [
        "df.shape"
      ],
      "metadata": {
        "colab": {
          "base_uri": "https://localhost:8080/"
        },
        "id": "Nf92NoWmaxE2",
        "outputId": "3e2a428a-8bc4-4581-9d03-9f06d4bb2ef5"
      },
      "execution_count": null,
      "outputs": [
        {
          "output_type": "execute_result",
          "data": {
            "text/plain": [
              "(569, 32)"
            ]
          },
          "metadata": {},
          "execution_count": 4
        }
      ]
    },
    {
      "cell_type": "code",
      "source": [
        "from sklearn.preprocessing import LabelEncoder\n",
        "\n",
        "X = df.loc[:, 2:].values\n",
        "y = df.loc[:, 1].values\n",
        "le = LabelEncoder()\n",
        "y = le.fit_transform(y)\n",
        "le.classes_"
      ],
      "metadata": {
        "colab": {
          "base_uri": "https://localhost:8080/"
        },
        "id": "77VlRJPtazOq",
        "outputId": "622fbe92-385a-47d3-b1fe-549edc0db596"
      },
      "execution_count": null,
      "outputs": [
        {
          "output_type": "execute_result",
          "data": {
            "text/plain": [
              "array(['B', 'M'], dtype=object)"
            ]
          },
          "metadata": {},
          "execution_count": 5
        }
      ]
    },
    {
      "cell_type": "code",
      "source": [
        "print(y.shape)"
      ],
      "metadata": {
        "id": "oUUGUuaelfO7",
        "outputId": "4ce78dbe-8674-4c80-f561-7f512e5d6e11",
        "colab": {
          "base_uri": "https://localhost:8080/"
        }
      },
      "execution_count": null,
      "outputs": [
        {
          "output_type": "stream",
          "name": "stdout",
          "text": [
            "(569,)\n"
          ]
        }
      ]
    },
    {
      "cell_type": "code",
      "source": [
        "print(X.shape)"
      ],
      "metadata": {
        "colab": {
          "base_uri": "https://localhost:8080/"
        },
        "id": "0p9SBFyklYy5",
        "outputId": "ea5ac91a-53a7-4e37-a0f8-c942dd89e23d"
      },
      "execution_count": null,
      "outputs": [
        {
          "output_type": "stream",
          "name": "stdout",
          "text": [
            "(569, 30)\n"
          ]
        }
      ]
    },
    {
      "cell_type": "code",
      "source": [
        "le.transform(['M', 'B'])"
      ],
      "metadata": {
        "colab": {
          "base_uri": "https://localhost:8080/"
        },
        "id": "41WV-Wr8a0LO",
        "outputId": "4f95716c-0abf-4f78-f224-d41885d82b11"
      },
      "execution_count": null,
      "outputs": [
        {
          "output_type": "execute_result",
          "data": {
            "text/plain": [
              "array([1, 0])"
            ]
          },
          "metadata": {},
          "execution_count": 11
        }
      ]
    },
    {
      "cell_type": "code",
      "source": [
        "from sklearn.model_selection import train_test_split\n",
        "\n",
        "X_train, X_test, y_train, y_test = \\\n",
        "    train_test_split(X, y,\n",
        "                     test_size=0.20,\n",
        "                     stratify=y,\n",
        "                     random_state=1)"
      ],
      "metadata": {
        "id": "EIP04qjha15E"
      },
      "execution_count": null,
      "outputs": []
    },
    {
      "cell_type": "markdown",
      "source": [
        "## Combining transformers and estimators in a pipeline\n",
        "Instead of going through the fitting and transformation steps for the training and test datasets separately, we can chain the StandardScaler, PCA, and LogisticRegression object in a pipeline:"
      ],
      "metadata": {
        "id": "hImpU_rXa8Pg"
      }
    },
    {
      "cell_type": "code",
      "source": [
        "from sklearn.preprocessing import StandardScaler\n",
        "from sklearn.decomposition import PCA\n",
        "from sklearn.linear_model import LogisticRegression\n",
        "from sklearn.pipeline import make_pipeline\n",
        "\n",
        "pipe_lr = make_pipeline(StandardScaler(),\n",
        "                        PCA(n_components=2),\n",
        "                        LogisticRegression(random_state=1, solver='lbfgs'))\n",
        "\n",
        "pipe_lr.fit(X_train, y_train)\n",
        "y_pred = pipe_lr.predict(X_test)\n",
        "print('Test Accuracy: %.3f' % pipe_lr.score(X_test, y_test))"
      ],
      "metadata": {
        "colab": {
          "base_uri": "https://localhost:8080/"
        },
        "id": "kCTswde1a90U",
        "outputId": "29729bb2-7a92-4c40-f62a-1eb5b0b9952c"
      },
      "execution_count": null,
      "outputs": [
        {
          "output_type": "stream",
          "name": "stdout",
          "text": [
            "Test Accuracy: 0.956\n"
          ]
        }
      ]
    },
    {
      "cell_type": "markdown",
      "source": [
        "K-fold cross validation"
      ],
      "metadata": {
        "id": "DRvzGsaryAqn"
      }
    },
    {
      "cell_type": "code",
      "source": [
        "import numpy as np\n",
        "from sklearn.model_selection import StratifiedKFold\n",
        "\n",
        "\n",
        "kfold = StratifiedKFold(n_splits=10).split(X_train, y_train)\n",
        "\n",
        "scores = []\n",
        "for k, (train, test) in enumerate(kfold):\n",
        "    pipe_lr.fit(X_train[train], y_train[train])\n",
        "    score = pipe_lr.score(X_train[test], y_train[test])\n",
        "    scores.append(score)\n",
        "    print('Fold: %2d, Class dist.: %s, Acc: %.3f' % (k+1,\n",
        "          np.bincount(y_train[train]), score))\n",
        "\n",
        "print('\\nCV accuracy: %.3f +/- %.3f' % (np.mean(scores), np.std(scores)))"
      ],
      "metadata": {
        "colab": {
          "base_uri": "https://localhost:8080/"
        },
        "id": "tDgMUD8vX7E6",
        "outputId": "dfcfca27-0377-491f-9abf-8db4e750d1bf"
      },
      "execution_count": null,
      "outputs": [
        {
          "output_type": "stream",
          "name": "stdout",
          "text": [
            "Fold:  1, Class dist.: [256 153], Acc: 0.935\n",
            "Fold:  2, Class dist.: [256 153], Acc: 0.935\n",
            "Fold:  3, Class dist.: [256 153], Acc: 0.957\n",
            "Fold:  4, Class dist.: [256 153], Acc: 0.957\n",
            "Fold:  5, Class dist.: [256 153], Acc: 0.935\n",
            "Fold:  6, Class dist.: [257 153], Acc: 0.956\n",
            "Fold:  7, Class dist.: [257 153], Acc: 0.978\n",
            "Fold:  8, Class dist.: [257 153], Acc: 0.933\n",
            "Fold:  9, Class dist.: [257 153], Acc: 0.956\n",
            "Fold: 10, Class dist.: [257 153], Acc: 0.956\n",
            "\n",
            "CV accuracy: 0.950 +/- 0.014\n"
          ]
        }
      ]
    },
    {
      "cell_type": "code",
      "source": [
        "from sklearn.model_selection import cross_val_score\n",
        "\n",
        "scores = cross_val_score(estimator=pipe_lr,\n",
        "                         X=X_train,\n",
        "                         y=y_train,\n",
        "                         cv=10,\n",
        "                         n_jobs=1)\n",
        "print('CV accuracy scores: %s' % scores)\n",
        "print('CV accuracy: %.3f +/- %.3f' % (np.mean(scores), np.std(scores)))"
      ],
      "metadata": {
        "colab": {
          "base_uri": "https://localhost:8080/"
        },
        "id": "Ll-BsjBmbLd7",
        "outputId": "30188bf3-8171-4326-d0af-9619f1194517"
      },
      "execution_count": null,
      "outputs": [
        {
          "output_type": "stream",
          "name": "stdout",
          "text": [
            "CV accuracy scores: [0.93478261 0.93478261 0.95652174 0.95652174 0.93478261 0.95555556\n",
            " 0.97777778 0.93333333 0.95555556 0.95555556]\n",
            "CV accuracy: 0.950 +/- 0.014\n"
          ]
        }
      ]
    },
    {
      "cell_type": "markdown",
      "source": [
        "Confusion Matrix"
      ],
      "metadata": {
        "id": "au-LM96dGITr"
      }
    },
    {
      "cell_type": "code",
      "source": [
        "from sklearn.model_selection import cross_val_predict\n",
        "\n",
        "y_train_pred = cross_val_predict(pipe_lr, X_train, y_train)"
      ],
      "metadata": {
        "id": "Tg9DTqB8E8EL"
      },
      "execution_count": null,
      "outputs": []
    },
    {
      "cell_type": "code",
      "source": [
        "from sklearn.metrics import confusion_matrix\n",
        "\n",
        "confusion_matrix(y_train, y_train_pred)"
      ],
      "metadata": {
        "colab": {
          "base_uri": "https://localhost:8080/"
        },
        "id": "9hwnsyN0HBcF",
        "outputId": "a1828ddd-ac7a-4d87-c2ff-d650a9890127"
      },
      "execution_count": null,
      "outputs": [
        {
          "output_type": "execute_result",
          "data": {
            "text/plain": [
              "array([[275,  10],\n",
              "       [ 13, 157]])"
            ]
          },
          "metadata": {},
          "execution_count": 18
        }
      ]
    },
    {
      "cell_type": "code",
      "source": [
        "y_train_perfect_predictions = y_train  # pretend we reached perfection\n",
        "confusion_matrix(y_train, y_train_perfect_predictions)"
      ],
      "metadata": {
        "colab": {
          "base_uri": "https://localhost:8080/"
        },
        "id": "yYn8LHkbHGld",
        "outputId": "bba66d7d-6fad-490a-f0cb-88e88d2a422d"
      },
      "execution_count": null,
      "outputs": [
        {
          "output_type": "execute_result",
          "data": {
            "text/plain": [
              "array([[285,   0],\n",
              "       [  0, 170]])"
            ]
          },
          "metadata": {},
          "execution_count": 19
        }
      ]
    },
    {
      "cell_type": "markdown",
      "source": [
        "precision = True Positive/(True Positive+False Positive)\n",
        "*   Underfitting: Low accuracy, high number of\n",
        "misclassifications.\n",
        "*   Overfitting: High accuracy on the training set, low accuracy on the test set.\n",
        "\n",
        "[[TP,FP]\n",
        "[FN,TN]]"
      ],
      "metadata": {
        "id": "XxDYpAe7Hh9d"
      }
    },
    {
      "cell_type": "markdown",
      "source": [
        "Precision and Recall"
      ],
      "metadata": {
        "id": "zI8Up5vmKOwo"
      }
    },
    {
      "cell_type": "code",
      "source": [
        "from sklearn.metrics import precision_score, recall_score\n",
        "\n",
        "precision_score(y_train, y_train_pred)"
      ],
      "metadata": {
        "colab": {
          "base_uri": "https://localhost:8080/"
        },
        "id": "mnK8Hfk3HhN9",
        "outputId": "f370fa18-a56d-4f6d-9f87-201bc78b5115"
      },
      "execution_count": null,
      "outputs": [
        {
          "output_type": "execute_result",
          "data": {
            "text/plain": [
              "0.9401197604790419"
            ]
          },
          "metadata": {},
          "execution_count": 20
        }
      ]
    },
    {
      "cell_type": "markdown",
      "source": [
        "Correct for 94% of the time."
      ],
      "metadata": {
        "id": "pmKxZH97Kk6l"
      }
    },
    {
      "cell_type": "code",
      "source": [
        "recall_score(y_train, y_train_pred)"
      ],
      "metadata": {
        "colab": {
          "base_uri": "https://localhost:8080/"
        },
        "id": "lh9rLb1LKrQg",
        "outputId": "ec230322-acbb-4131-da23-163837ff6813"
      },
      "execution_count": null,
      "outputs": [
        {
          "output_type": "execute_result",
          "data": {
            "text/plain": [
              "0.9235294117647059"
            ]
          },
          "metadata": {},
          "execution_count": 21
        }
      ]
    },
    {
      "cell_type": "markdown",
      "source": [
        "Detects 92%."
      ],
      "metadata": {
        "id": "I0Y0mZWbKyHV"
      }
    },
    {
      "cell_type": "code",
      "source": [
        "from sklearn.metrics import f1_score\n",
        "\n",
        "f1_score(y_train, y_train_pred)"
      ],
      "metadata": {
        "colab": {
          "base_uri": "https://localhost:8080/"
        },
        "id": "RNAyRUIFKw_9",
        "outputId": "499f8ac8-a92d-4931-b012-a15c772cce5b"
      },
      "execution_count": null,
      "outputs": [
        {
          "output_type": "execute_result",
          "data": {
            "text/plain": [
              "0.9317507418397626"
            ]
          },
          "metadata": {},
          "execution_count": 22
        }
      ]
    },
    {
      "cell_type": "markdown",
      "source": [
        "The F1 score favors classifiers that have similar precision and recall. This is not always\n",
        "what you want: in some contexts you mostly care about precision, and in other contexts you really care about recall.\n",
        "\n",
        "Unfortunately, you can’t have it both ways: increasing precision reduces recall, and\n",
        "vice versa. This is called the precision/recall tradeoff.\n"
      ],
      "metadata": {
        "id": "g2qsr7NkLBSb"
      }
    },
    {
      "cell_type": "code",
      "source": [],
      "metadata": {
        "id": "6vn3zp0mK-bw"
      },
      "execution_count": null,
      "outputs": []
    }
  ]
}